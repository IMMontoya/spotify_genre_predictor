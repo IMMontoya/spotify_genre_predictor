{
 "cells": [
  {
   "cell_type": "markdown",
   "metadata": {},
   "source": [
    "# Code Pudding 2024\n",
    "***\n",
    "\n",
    "The purpose of this notebook will be to analyse data retrieved from the [Spotify Web API](https://developer.spotify.com/documentation/web-api) in order to train various machine learning models to predict the genre of any given song. Once the models have been trained, validated and tested, a function will be built that feeds the data from the API to the best preforming model, and it's genre will be predicted."
   ]
  },
  {
   "cell_type": "markdown",
   "metadata": {},
   "source": [
    "## Initialization"
   ]
  },
  {
   "cell_type": "code",
   "execution_count": 15,
   "metadata": {},
   "outputs": [],
   "source": [
    "import pandas as pd\n",
    "import numpy as np\n",
    "import plotly.express as px\n",
    "import spotipy\n",
    "from spotipy.oauth2 import SpotifyClientCredentials\n",
    "from dotenv import dotenv_values"
   ]
  },
  {
   "cell_type": "markdown",
   "metadata": {},
   "source": [
    "## Spotify API\n",
    "\n",
    "The following cell reads the `.env` file into a dictionary with the following keys:\n",
    "\n",
    "- `Client_ID`\n",
    "- `Client_secret`\n",
    "\n",
    "Ensure you have followed the directions from the [Web API](https://developer.spotify.com/documentation/web-api) and have both of those values."
   ]
  },
  {
   "cell_type": "code",
   "execution_count": 17,
   "metadata": {},
   "outputs": [],
   "source": [
    "config = dotenv_values(\".env\")  # config = {\"Client_ID\": \"foo\", \"Client_secret\": \"foo\"}\n",
    "client_credentials_manager = SpotifyClientCredentials(client_id=config['Client_ID'], client_secret=config['Client_secret'])\n",
    "sp = spotipy.Spotify(client_credentials_manager = client_credentials_manager)"
   ]
  },
  {
   "cell_type": "markdown",
   "metadata": {},
   "source": [
    "## EDA"
   ]
  },
  {
   "cell_type": "code",
   "execution_count": 40,
   "metadata": {},
   "outputs": [
    {
     "name": "stdout",
     "output_type": "stream",
     "text": [
      "<class 'pandas.core.frame.DataFrame'>\n",
      "RangeIndex: 5829 entries, 0 to 5828\n",
      "Data columns (total 19 columns):\n",
      " #   Column            Non-Null Count  Dtype  \n",
      "---  ------            --------------  -----  \n",
      " 0   track_id          5829 non-null   object \n",
      " 1   genre             5829 non-null   object \n",
      " 2   danceability      5829 non-null   float64\n",
      " 3   energy            5829 non-null   float64\n",
      " 4   key               5829 non-null   int64  \n",
      " 5   loudness          5829 non-null   float64\n",
      " 6   mode              5829 non-null   int64  \n",
      " 7   speechiness       5829 non-null   float64\n",
      " 8   acousticness      5829 non-null   float64\n",
      " 9   instrumentalness  5829 non-null   float64\n",
      " 10  liveness          5829 non-null   float64\n",
      " 11  valence           5829 non-null   float64\n",
      " 12  tempo             5829 non-null   float64\n",
      " 13  type              5829 non-null   object \n",
      " 14  uri               5829 non-null   object \n",
      " 15  track_href        5829 non-null   object \n",
      " 16  analysis_url      5829 non-null   object \n",
      " 17  duration_ms       5829 non-null   int64  \n",
      " 18  time_signature    5829 non-null   int64  \n",
      "dtypes: float64(9), int64(4), object(6)\n",
      "memory usage: 865.4+ KB\n"
     ]
    }
   ],
   "source": [
    "data = pd.read_csv('spotify_data.csv')\n",
    "data.info()"
   ]
  },
  {
   "cell_type": "code",
   "execution_count": 6,
   "metadata": {},
   "outputs": [
    {
     "name": "stdout",
     "output_type": "stream",
     "text": [
      "0\n",
      "0\n"
     ]
    }
   ],
   "source": [
    "print(data.duplicated().sum())\n",
    "print(data['track_id'].duplicated().sum())"
   ]
  },
  {
   "cell_type": "code",
   "execution_count": 41,
   "metadata": {},
   "outputs": [
    {
     "data": {
      "text/plain": [
       "genre\n",
       "other        1500\n",
       "rock          900\n",
       "hip hop       900\n",
       "jazz          898\n",
       "classical     856\n",
       "pop           775\n",
       "Name: count, dtype: int64"
      ]
     },
     "execution_count": 41,
     "metadata": {},
     "output_type": "execute_result"
    }
   ],
   "source": [
    "data['genre'].value_counts()"
   ]
  },
  {
   "cell_type": "markdown",
   "metadata": {},
   "source": [
    "## Search Function\n",
    "\n",
    "Created by Isaiah Montoya"
   ]
  },
  {
   "cell_type": "code",
   "execution_count": 39,
   "metadata": {},
   "outputs": [
    {
     "name": "stdout",
     "output_type": "stream",
     "text": [
      "Found track: Spybreak! - Short One by Propellerheads\n",
      "Audio Features:\n",
      "{'danceability': 0.552, 'energy': 0.929, 'key': 1, 'loudness': -8.626, 'mode': 1, 'speechiness': 0.0458, 'acousticness': 7.14e-06, 'instrumentalness': 0.846, 'liveness': 0.18, 'valence': 0.466, 'tempo': 127.834, 'type': 'audio_features', 'id': '6AyXbkn4cwrErFIMbRBRDs', 'uri': 'spotify:track:6AyXbkn4cwrErFIMbRBRDs', 'track_href': 'https://api.spotify.com/v1/tracks/6AyXbkn4cwrErFIMbRBRDs', 'analysis_url': 'https://api.spotify.com/v1/audio-analysis/6AyXbkn4cwrErFIMbRBRDs', 'duration_ms': 244400, 'time_signature': 4}\n"
     ]
    }
   ],
   "source": [
    "def get_track_features(song_title, artist_name):\n",
    "    # Search for the song using Spotipy's search function\n",
    "    result = sp.search(q=f\"track:{song_title} artist:{artist_name}\", type='track', limit=1)\n",
    "    \n",
    "    if result['tracks']['items']:\n",
    "        # Extract the track ID from the search result\n",
    "        track = result['tracks']['items'][0]\n",
    "        track_id = track['id']\n",
    "        track_name = track['name']\n",
    "        artist_name = track['artists'][0]['name']\n",
    "        \n",
    "        print(f\"Found track: {track_name} by {artist_name}\")\n",
    "        \n",
    "        # Use the track ID to get the song's features\n",
    "        features = sp.audio_features(track_id)\n",
    "        return features[0]  # Return the features dictionary\n",
    "    else:\n",
    "        print(f\"No results found for {song_title} by {artist_name}\")\n",
    "        return None\n",
    "\n",
    "# Example usage\n",
    "song_title = \"Spybreak-Short One\"\n",
    "artist_name = \"Propellerheads\"\n",
    "features = get_track_features(song_title, artist_name)\n",
    "\n",
    "if features:\n",
    "    print(\"Audio Features:\")\n",
    "    print(features)"
   ]
  }
 ],
 "metadata": {
  "kernelspec": {
   "display_name": "base",
   "language": "python",
   "name": "python3"
  },
  "language_info": {
   "codemirror_mode": {
    "name": "ipython",
    "version": 3
   },
   "file_extension": ".py",
   "mimetype": "text/x-python",
   "name": "python",
   "nbconvert_exporter": "python",
   "pygments_lexer": "ipython3",
   "version": "3.11.7"
  }
 },
 "nbformat": 4,
 "nbformat_minor": 2
}
