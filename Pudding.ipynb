{
 "cells": [
  {
   "cell_type": "markdown",
   "metadata": {},
   "source": [
    "# Code Pudding 2024\n",
    "***\n",
    "\n",
    "The purpose of this notebook will be to analyse data retrieved from the [Spotify Web API](https://developer.spotify.com/documentation/web-api) in order to train various machine learning models to predict the genre of any given song. Once the models have been trained, validated and tested, a function will be built that feeds the data from the API to the best preforming model, and it's genre will be predicted."
   ]
  },
  {
   "cell_type": "markdown",
   "metadata": {},
   "source": [
    "## Initialization"
   ]
  },
  {
   "cell_type": "code",
   "execution_count": 3,
   "metadata": {},
   "outputs": [],
   "source": [
    "import os\n",
    "import math\n",
    "import random\n",
    "import pandas as pd\n",
    "import numpy as np\n",
    "from collections import Counter\n",
    "from tqdm import tqdm\n",
    "import plotly.express as px\n",
    "\n",
    "from requests.adapters import HTTPAdapter\n",
    "from urllib3.util.retry import Retry\n",
    "\n",
    "import spotipy\n",
    "from spotipy.oauth2 import SpotifyClientCredentials\n",
    "\n",
    "from dotenv import dotenv_values"
   ]
  },
  {
   "cell_type": "markdown",
   "metadata": {},
   "source": [
    "## Spotify API\n",
    "\n",
    "The following cell reads the `.env` file into a dictionary with the following keys:\n",
    "\n",
    "- `Client_ID`\n",
    "- `Client_secret`\n",
    "\n",
    "Ensure you have followed the directions from the [Web API](https://developer.spotify.com/documentation/web-api) and have both of those values."
   ]
  },
  {
   "cell_type": "code",
   "execution_count": 4,
   "metadata": {},
   "outputs": [],
   "source": [
    "config = dotenv_values(\".env\")  # config = {\"Client_ID\": \"foo\", \"Client_secret\": \"foo\"}\n",
    "client_credentials_manager = SpotifyClientCredentials(client_id=config['Client_ID'], client_secret=config['Client_secret'])\n",
    "sp = spotipy.Spotify(client_credentials_manager = client_credentials_manager)"
   ]
  },
  {
   "cell_type": "markdown",
   "metadata": {},
   "source": [
    "## Data Gathering"
   ]
  },
  {
   "cell_type": "code",
   "execution_count": 5,
   "metadata": {},
   "outputs": [],
   "source": [
    "# Increase timeout and add retry logic\n",
    "session = sp._session\n",
    "retry = Retry(\n",
    "    total=5,  # Total number of retries\n",
    "    backoff_factor=0.3,  # Wait time between retries\n",
    "    status_forcelist=[500, 502, 503, 504],  # Retry on these HTTP status codes\n",
    "    raise_on_status=False\n",
    ")\n",
    "adapter = HTTPAdapter(max_retries=retry)  # Increase timeout to 10 seconds\n",
    "session.mount(\"https://\", adapter)\n",
    "\n",
    "# Set random seed for reproducibility in pulling data from sub genres in an unbiased way\n",
    "\n",
    "random.seed(42)"
   ]
  },
  {
   "cell_type": "markdown",
   "metadata": {},
   "source": [
    "### Functions"
   ]
  },
  {
   "cell_type": "code",
   "execution_count": 6,
   "metadata": {},
   "outputs": [],
   "source": [
    "def test_genre_string(genre, debug=False):\n",
    "    \"\"\"\n",
    "    Input:\n",
    "        genre: str, genre string to test\n",
    "        debug: bool, print debug messages\n",
    "    Output:\n",
    "        bool: True if the genre is valid, False if not\n",
    "        \n",
    "    Tests if a genre string is valid by searching for tracks with that genre. If no tracks are found, the genre is invalid.\n",
    "    \"\"\"\n",
    "    results = sp.search(q=f'genre:{genre}', type='track', limit=1)\n",
    "    number_of_tracks = len(results['tracks']['items'])\n",
    "    if number_of_tracks == 0:\n",
    "        print(f\"No tracks found for genre: {genre}\")\n",
    "        return False\n",
    "    else:\n",
    "        if debug:\n",
    "            print(f\"Found {number_of_tracks} tracks for genre: {genre}\")\n",
    "        return True"
   ]
  },
  {
   "cell_type": "code",
   "execution_count": 7,
   "metadata": {},
   "outputs": [],
   "source": [
    "def get_genres_of_interest(genres_dict, genre_record_limit, pagination_limit=45, debug=False):\n",
    "    \"\"\"\n",
    "    Fetches track IDs for specified genres from Spotify, ensuring a balanced representation of each genre.\n",
    "    Args:\n",
    "        genres_dict (dict): A dictionary where keys are super genres and values are lists of sub-genres.\n",
    "        genre_record_limit (int): The maximum number of tracks to fetch per super genre.\n",
    "        pagination_limit (int, optional): The number of tracks to fetch per API call. Defaults to 45.\n",
    "        debug (bool, optional): If True, prints debug information. Defaults to False.\n",
    "    Returns:\n",
    "        tuple: A tuple containing two lists:\n",
    "            - track_ids (list): A list of track IDs fetched from Spotify.\n",
    "            - track_genre (list): A list of super genres corresponding to each track ID.\n",
    "    Raises:\n",
    "        AssertionError: If duplicate track IDs are found in the final list.\n",
    "    \"\"\"\n",
    "    \n",
    "    # Initialize variables\n",
    "    track_ids = []\n",
    "    track_genre = []\n",
    "    seen_track_ids = set()\n",
    "\n",
    "    for super_genre, sub_genres in genres_dict.items():\n",
    "        print(f\"Getting records for super genre: {super_genre}\")\n",
    "        super_genre_track_ids = []\n",
    "\n",
    "        # Dictionary to track how many tracks we pulled per sub-genre\n",
    "        sub_genre_counts = {sub_genre: 0 for sub_genre in sub_genres}\n",
    "\n",
    "        # Loop until we hit the genre_record_limit for the super genre\n",
    "        total_tracks_pulled = 0\n",
    "        \n",
    "        while total_tracks_pulled < genre_record_limit and sub_genres:\n",
    "            # Calculate remaining tracks needed for the super genre\n",
    "            tracks_needed = genre_record_limit - total_tracks_pulled\n",
    "\n",
    "            # Shuffle sub-genres to randomize the pulls\n",
    "            random.shuffle(sub_genres)\n",
    "\n",
    "            for sub_genre in sub_genres[:]:\n",
    "                \n",
    "                # Adjust the batch size to ensure we don't exceed the genre_record_limit\n",
    "                batch_size = min(pagination_limit, tracks_needed)\n",
    "\n",
    "                # Fetch a batch of tracks for the sub-genre\n",
    "                results = sp.search(q=f'genre:{sub_genre}', type='track', limit=batch_size, offset=sub_genre_counts[sub_genre])\n",
    "                \n",
    "                # If no items are returned, remove the sub-genre and move on\n",
    "                if not results['tracks']['items']:\n",
    "                    if debug:\n",
    "                        print(f\"No items for sub-genre: {sub_genre}, removing from sub-genres\")\n",
    "                    sub_genres.remove(sub_genre)  # Remove sub-genre if no more tracks are returned\n",
    "                    continue  # Skip the rest of the code for this sub-genre\n",
    "            \n",
    "                # Add new track IDs that are not already seen, but ensure we don't exceed the genre_record_limit\n",
    "                new_track_ids = [track['id'] for track in results['tracks']['items'] if track['id'] not in seen_track_ids]\n",
    "                new_tracks_needed = genre_record_limit - total_tracks_pulled\n",
    "                \n",
    "                # Only add as many tracks as needed to reach the limit\n",
    "                new_track_ids = new_track_ids[:new_tracks_needed]\n",
    "                \n",
    "                for track_id in new_track_ids:\n",
    "                    # Add the new track to the super genre's collection\n",
    "                    super_genre_track_ids.append(track_id)\n",
    "                    track_genre.append(super_genre)  # Label the track with the super genre\n",
    "                    seen_track_ids.add(track_id)\n",
    "                \n",
    "                # Update counts and totals\n",
    "                sub_genre_counts[sub_genre] += len(new_track_ids)\n",
    "                total_tracks_pulled += len(new_track_ids)\n",
    "\n",
    "                if debug:\n",
    "                    print(f\"Fetched {len(new_track_ids)} new tracks for sub-genre: {sub_genre}\")\n",
    "\n",
    "                # If we've reached the limit for the super genre, stop\n",
    "                if total_tracks_pulled >= genre_record_limit:\n",
    "                    break\n",
    "                \n",
    "            # Check again if we've exhausted all sub-genres\n",
    "            if not sub_genres:\n",
    "                if debug:\n",
    "                    print(f\"All sub-genres for super genre exhausted.\")\n",
    "                break\n",
    "\n",
    "        print(f\"{len(super_genre_track_ids)} records found for super genre: {super_genre}\\n\")\n",
    "        # Add the super genre track ids to the main list\n",
    "        track_ids.extend(super_genre_track_ids)\n",
    "\n",
    "    print(\"Total number of records:\", len(track_ids), \"\\n\")\n",
    "\n",
    "    # Check for duplicates in the final list\n",
    "    track_id_counts = Counter(track_ids)\n",
    "    duplicates = {track_id: count for track_id, count in track_id_counts.items() if count > 1}\n",
    "\n",
    "    # Assert no duplicates\n",
    "    assert not duplicates, f\"Duplicate track IDs found: {duplicates}\"\n",
    "\n",
    "    return track_ids, track_genre\n"
   ]
  },
  {
   "cell_type": "code",
   "execution_count": 8,
   "metadata": {},
   "outputs": [],
   "source": [
    "def get_other_genres(genres_of_interest, genre_record_limit, already_seen_ids, pagination_limit=45, debug=False):\n",
    "    \"\"\"\n",
    "    Fetches tracks from genres not included in the genres_of_interest.\n",
    "    Ensures an even distribution of tracks across genres and respects the genre_record_limit.\n",
    "    Args:\n",
    "        genres_of_interest (dict): A dictionary where keys are super genres and values are lists of sub-genres of interest.\n",
    "        genre_record_limit (int): The maximum number of tracks to fetch.\n",
    "        already_seen_ids (list or set): A list or set of track IDs that have already been gathered.\n",
    "        pagination_limit (int, optional): The number of tracks to fetch per API call. Defaults to 45.\n",
    "        debug (bool, optional): If True, prints debug information. Defaults to False.\n",
    "    Returns:\n",
    "        tuple: A tuple containing:\n",
    "            - other_track_ids (list): A list of track IDs from the 'other' genres.\n",
    "            - genre_labels (list): A list of genre labels corresponding to the fetched track IDs.\n",
    "            - genre_counts (dict): A dictionary with genres as keys and the count of fetched tracks as values.\n",
    "    Raises:\n",
    "        AssertionError: If duplicate track IDs are found in the final list of track IDs.\n",
    "    \"\"\"\n",
    "\n",
    "    print(\"Getting 'other' genres.\")\n",
    "    already_seen_ids = set(already_seen_ids)  # Ensure it's a set for fast lookup\n",
    "\n",
    "    # Flatten the dictionary to get all sub-genres in genres_of_interest\n",
    "    sub_genres_of_interest = {sub_genre for super_genre, sub_genres in genres_of_interest.items() for sub_genre in sub_genres}\n",
    "\n",
    "    # All genres excluding genres_of_interest\n",
    "    other_genres = [genre for genre in sp.recommendation_genre_seeds()['genres'] if genre not in sub_genres_of_interest]\n",
    "\n",
    "    # Dictionary to track how many tracks we pulled per genre\n",
    "    genre_counts = {genre: 0 for genre in other_genres}\n",
    "\n",
    "    # List to hold unique track IDs for this function\n",
    "    other_track_ids = []\n",
    "\n",
    "    # Track total number of new tracks pulled\n",
    "    total_tracks_pulled = 0\n",
    "\n",
    "    # Loop until we hit the genre_record_limit\n",
    "    while total_tracks_pulled < genre_record_limit and other_genres:\n",
    "        # Calculate remaining tracks needed for the overall genre\n",
    "        tracks_needed = genre_record_limit - total_tracks_pulled\n",
    "\n",
    "        # Shuffle genres to randomize the pulls\n",
    "        random.shuffle(other_genres)\n",
    "\n",
    "        for genre in other_genres[:]:\n",
    "            # Adjust the batch size to ensure we don't exceed the genre_record_limit\n",
    "            batch_size = min(pagination_limit, tracks_needed)\n",
    "\n",
    "            # Fetch a batch of tracks for the genre\n",
    "            results = sp.search(q=f'genre:{genre}', type='track', limit=batch_size, offset=genre_counts[genre])\n",
    "\n",
    "            # If no items are returned, remove the genre and move on\n",
    "            if not results['tracks']['items']:\n",
    "                if debug:\n",
    "                    print(f\"No items for genre: {genre}, removing from other_genres\")\n",
    "                other_genres.remove(genre)\n",
    "                continue\n",
    "\n",
    "            # Add new track IDs that are not already seen, but ensure we don't exceed the genre_record_limit\n",
    "            new_track_ids = [track['id'] for track in results['tracks']['items'] if track['id'] not in already_seen_ids]\n",
    "            new_tracks_needed = genre_record_limit - total_tracks_pulled\n",
    "\n",
    "            # Only add as many tracks as needed to reach the limit\n",
    "            new_track_ids = new_track_ids[:new_tracks_needed]\n",
    "\n",
    "            for track_id in new_track_ids:\n",
    "                # Add the new track to the other track IDs collection\n",
    "                other_track_ids.append(track_id)\n",
    "                already_seen_ids.add(track_id)  # Also add to already seen IDs to avoid duplicates\n",
    "                genre_counts[genre] += 1\n",
    "                total_tracks_pulled += 1\n",
    "\n",
    "            if debug:\n",
    "                print(f\"Fetched {len(new_track_ids)} new tracks for genre: {genre}\")\n",
    "\n",
    "            # If we've reached the genre record limit, stop\n",
    "            if total_tracks_pulled >= genre_record_limit:\n",
    "                break\n",
    "\n",
    "    print(f\"Total number of new records: {len(other_track_ids)} new tracks\")\n",
    "\n",
    "    if debug:\n",
    "        # Print genre counts only for genres with tracks > 0\n",
    "        print(f\"\\nGenre Counts:\")\n",
    "        for genre, count in genre_counts.items():\n",
    "            if count > 0:\n",
    "                print(f\"{genre}: {count}\")\n",
    "\n",
    "    # Create genre labels for the new tracks\n",
    "    genre_labels = [\"other\"] * len(other_track_ids)\n",
    "\n",
    "    # Check for duplicates in the final list of track IDs\n",
    "    track_id_counts = Counter(other_track_ids)\n",
    "    duplicates = {track_id: count for track_id, count in track_id_counts.items() if count > 1}\n",
    "\n",
    "    # Assert no duplicates\n",
    "    assert not duplicates, f\"Duplicate track IDs found: {duplicates}\"\n",
    "\n",
    "    return other_track_ids, genre_labels, genre_counts\n"
   ]
  },
  {
   "cell_type": "code",
   "execution_count": 9,
   "metadata": {},
   "outputs": [],
   "source": [
    "def amend_sub_genres(sub_genres):\n",
    "    \"\"\"\n",
    "    Input: A list of sub-genres\n",
    "    Output: The same list with any sub-genres removed that do not return results from the Spotify API\n",
    "    \"\"\"\n",
    "    sub_genres = sub_genres.copy()\n",
    "    # Modify the sub_genres list in place\n",
    "    before = len(sub_genres)\n",
    "    print(f\"Number of sub genres before check: {before}\")\n",
    "    \n",
    "    # Create a copy of the list to avoid modifying it while iterating\n",
    "    for genre in sub_genres[:]:\n",
    "        if not test_genre_string(genre):\n",
    "            sub_genres.remove(genre)\n",
    "            print(f\"Removed {genre} from sub_genres.\")\n",
    "    \n",
    "    print(f\"Number of sub genres after check: {len(sub_genres)}, {before - len(sub_genres)} removed.\")\n",
    "    \n",
    "    return sub_genres"
   ]
  },
  {
   "cell_type": "markdown",
   "metadata": {},
   "source": [
    "### Define sub genres to super genre pairing"
   ]
  },
  {
   "cell_type": "code",
   "execution_count": 10,
   "metadata": {},
   "outputs": [],
   "source": [
    "## You can put any string in the lists below, the next cell will test if it is a valid genre\n",
    "\n",
    "genres_of_interest = {\n",
    "    'rock': [\n",
    "            'rock',\n",
    "            'alt-rock',\n",
    "            'hard-rock',\n",
    "            'j-rock',\n",
    "            'psych-rock',\n",
    "            'punk-rock',\n",
    "            'rock-n-roll',\n",
    "            'rockabilly',\n",
    "            'grunge',\n",
    "            'punk'\n",
    "            ],\n",
    "    'pop': [\n",
    "            \"pop\",\n",
    "            \"Dance Pop\",\n",
    "            \"Electropop\",\n",
    "            \"Indie Pop\",\n",
    "            \"Synth-pop\",\n",
    "            \"Pop Rock\",\n",
    "            \"Teen Pop\",\n",
    "            \"Power Pop\",\n",
    "            \"Art Pop\",\n",
    "            \"Pop Punk\",\n",
    "            \"K-Pop\",\n",
    "            \"J-Pop\",\n",
    "            \"Latin Pop\",\n",
    "            \"Dream Pop\",\n",
    "            \"Bubblegum Pop\",\n",
    "            \"Euro Pop\",\n",
    "            \"Pop Rap\",\n",
    "            \"Chamber Pop\",\n",
    "            \"Baroque Pop\",\n",
    "            \"Pop Soul\",\n",
    "            \"Acoustic Pop\",\n",
    "            \"j-pop\",\n",
    "            \"k-pop\",\n",
    "            ],\n",
    "    'rap/hip-hop': [\n",
    "                \"Hip Hop\",\n",
    "                \"Hip-Hop\",\n",
    "                \"Rap\",\n",
    "                \"Trap\",\n",
    "                \"Gangsta Rap\",\n",
    "                \"East Coast Hip Hop\",\n",
    "                \"West Coast Hip Hop\",\n",
    "                \"Conscious Hip Hop\",\n",
    "                \"Alternative Hip Hop\",\n",
    "                \"Boom Bap\",\n",
    "                \"Dirty South\",\n",
    "                \"Crunk\",\n",
    "                \"Drill\",\n",
    "                \"Grime\",\n",
    "                \"Cloud Rap\",\n",
    "                \"Underground Hip Hop\",\n",
    "                \"Emo Rap\",\n",
    "                \"Hardcore Hip Hop\",\n",
    "                \"Lofi Hip Hop\",\n",
    "                \"Old School Hip Hop\",\n",
    "                \"Christian Hip Hop\",\n",
    "                \"Latin Hip Hop\"\n",
    "                ],\n",
    "    'classical': [\n",
    "                \"Classical\",\n",
    "                \"Baroque\",\n",
    "                \"Romantic\",\n",
    "                \"Classical\",\n",
    "                \"Chamber Music\",\n",
    "                \"Symphony\",\n",
    "                \"Opera\",\n",
    "                \"Choral\",\n",
    "                \"Contemporary Classical\",\n",
    "                \"Minimalism\",\n",
    "                \"Orchestral\",\n",
    "                \"Piano\",\n",
    "                \"String Quartet\",\n",
    "                \"Early Music\",\n",
    "                \"Renaissance\",\n",
    "                \"Modern Classical\",\n",
    "                \"Neoclassical\",\n",
    "                \"Impressionism\",\n",
    "                \"Avant-Garde\",\n",
    "                \"Sacred Classical\",\n",
    "                \"Cantata\",\n",
    "                \"Piano\"\n",
    "                ],\n",
    "    'jazz': [\n",
    "                \"Jazz\",\n",
    "                \"Bebop\",\n",
    "                \"Swing\",\n",
    "                \"Smooth Jazz\",\n",
    "                \"Cool Jazz\",\n",
    "                \"Hard Bop\",\n",
    "                \"Free Jazz\",\n",
    "                \"Fusion\",\n",
    "                \"Modal Jazz\",\n",
    "                \"Latin Jazz\",\n",
    "                \"Avant-Garde Jazz\",\n",
    "                \"Gypsy Jazz\",\n",
    "                \"Vocal Jazz\",\n",
    "                \"Jazz Funk\",\n",
    "                \"Jazz Blues\",\n",
    "                \"Soul Jazz\",\n",
    "                \"Post-Bop\",\n",
    "                \"Ragtime\",\n",
    "                \"Big Band\",\n",
    "                \"Dixieland\",\n",
    "                \"Nu Jazz\",\n",
    "                \"Jazz Fusion\",\n",
    "                ]\n",
    "}"
   ]
  },
  {
   "cell_type": "code",
   "execution_count": 11,
   "metadata": {},
   "outputs": [
    {
     "name": "stdout",
     "output_type": "stream",
     "text": [
      "\n",
      "Checking sub-genres for rock\n",
      "Number of sub genres before check: 10\n",
      "Number of sub genres after check: 10, 0 removed.\n",
      "\n",
      "Checking sub-genres for pop\n",
      "Number of sub genres before check: 23\n",
      "Number of sub genres after check: 23, 0 removed.\n",
      "\n",
      "Checking sub-genres for rap/hip-hop\n",
      "Number of sub genres before check: 22\n",
      "No tracks found for genre: Lofi Hip Hop\n",
      "Removed Lofi Hip Hop from sub_genres.\n",
      "Number of sub genres after check: 21, 1 removed.\n",
      "\n",
      "Checking sub-genres for classical\n",
      "Number of sub genres before check: 22\n",
      "No tracks found for genre: Sacred Classical\n",
      "Removed Sacred Classical from sub_genres.\n",
      "No tracks found for genre: Cantata\n",
      "Removed Cantata from sub_genres.\n",
      "Number of sub genres after check: 20, 2 removed.\n",
      "\n",
      "Checking sub-genres for jazz\n",
      "Number of sub genres before check: 22\n",
      "No tracks found for genre: Modal Jazz\n",
      "Removed Modal Jazz from sub_genres.\n",
      "Number of sub genres after check: 21, 1 removed.\n"
     ]
    }
   ],
   "source": [
    "# If a sub genre string is invalid, it will be removed from the list to avoid unnecessary API calls\n",
    "\n",
    "for super_genre in genres_of_interest:\n",
    "    print(f\"\\nChecking sub-genres for {super_genre}\")\n",
    "    genres_of_interest[super_genre] = amend_sub_genres(genres_of_interest[super_genre])"
   ]
  },
  {
   "cell_type": "markdown",
   "metadata": {},
   "source": [
    "### Data Retrieval"
   ]
  },
  {
   "cell_type": "code",
   "execution_count": 12,
   "metadata": {},
   "outputs": [],
   "source": [
    "genre_record_limit = 1500 # Number of tracks to fetch per genre\n",
    "pagination_limit = 45 # Number of tracks to fetch per API call, max is 50 but I found 45 to be more reliable"
   ]
  },
  {
   "cell_type": "code",
   "execution_count": 13,
   "metadata": {},
   "outputs": [
    {
     "name": "stdout",
     "output_type": "stream",
     "text": [
      "Getting records for super genre: rock\n",
      "1500 records found for super genre: rock\n",
      "\n",
      "Getting records for super genre: pop\n",
      "1500 records found for super genre: pop\n",
      "\n",
      "Getting records for super genre: rap/hip-hop\n",
      "1500 records found for super genre: rap/hip-hop\n",
      "\n",
      "Getting records for super genre: classical\n",
      "1500 records found for super genre: classical\n",
      "\n",
      "Getting records for super genre: jazz\n",
      "1500 records found for super genre: jazz\n",
      "\n",
      "Total number of records: 7500 \n",
      "\n"
     ]
    }
   ],
   "source": [
    "track_ids, track_genre = get_genres_of_interest(genres_of_interest, genre_record_limit, pagination_limit)"
   ]
  },
  {
   "cell_type": "code",
   "execution_count": 14,
   "metadata": {},
   "outputs": [],
   "source": [
    "# Assert length of track_ids is equal to genre_record_limit * number of super genres\n",
    "assert len(track_ids) == genre_record_limit * len(genres_of_interest), f\"Expected {genre_record_limit * len(genres_of_interest)} tracks, but got {len(track_ids)}\"\n",
    "\n",
    "# Assert no duplicates\n",
    "assert len(track_ids) == len(set(track_ids)), \"Duplicate tracks found\""
   ]
  },
  {
   "cell_type": "code",
   "execution_count": 15,
   "metadata": {},
   "outputs": [
    {
     "name": "stdout",
     "output_type": "stream",
     "text": [
      "Getting 'other' genres.\n",
      "Total number of new records: 1500 new tracks\n"
     ]
    }
   ],
   "source": [
    "# Get other genres\n",
    "other_track_ids, other_genre_labels, other_genre_counts = get_other_genres(genres_of_interest, genre_record_limit, track_ids)\n",
    "\n",
    "# # This is helpful to see how many tracks were fetched for each super genre\n",
    "# for genre, count in other_genre_counts.items():\n",
    "#     if count > 0:\n",
    "#         print(f\"{genre}: {count}\")\n"
   ]
  },
  {
   "cell_type": "code",
   "execution_count": 16,
   "metadata": {},
   "outputs": [],
   "source": [
    "# Assert no track_ids overlap between genres_of_interest and other genres\n",
    "assert not set(track_ids).intersection(other_track_ids), \"Overlap between genres_of_interest and other genres\""
   ]
  },
  {
   "cell_type": "code",
   "execution_count": 17,
   "metadata": {},
   "outputs": [],
   "source": [
    "# Combine the two lists\n",
    "all_track_ids = track_ids + other_track_ids\n",
    "all_track_genre = track_genre + other_genre_labels\n",
    "\n",
    "# Create a DataFrame\n",
    "track_genres_df = pd.DataFrame({\"track_id\": all_track_ids, \"genre\": all_track_genre})\n",
    "\n",
    "# Assert no duplicates\n",
    "assert track_genres_df['track_id'].nunique() == len(track_genres_df), \"Duplicate track IDs found in the final DataFrame\"\n"
   ]
  },
  {
   "cell_type": "code",
   "execution_count": 18,
   "metadata": {},
   "outputs": [
    {
     "name": "stderr",
     "output_type": "stream",
     "text": [
      "Fetching audio features: 100%|██████████| 200/200 [00:33<00:00,  5.99it/s]\n"
     ]
    }
   ],
   "source": [
    "# Get audio features for each track with a progress bar\n",
    "track_features = []\n",
    "for i in tqdm(range(0, len(track_genres_df), pagination_limit), desc=\"Fetching audio features\"):\n",
    "    features = sp.audio_features(all_track_ids[i:i+pagination_limit])\n",
    "    \n",
    "    # Raise error if no features are returned\n",
    "    if not features:\n",
    "        raise ValueError(f\"No audio features returned for tracks: {all_track_ids[i:i+pagination_limit]}\")\n",
    "    \n",
    "    for feature in features:\n",
    "        # Raise error if no features are returned for individual tracks\n",
    "        if not feature:\n",
    "            raise ValueError(f\"No audio features returned for track: {all_track_ids[i:i+pagination_limit]}\")\n",
    "        track_features.append(feature)\n",
    "\n"
   ]
  },
  {
   "cell_type": "code",
   "execution_count": 19,
   "metadata": {},
   "outputs": [],
   "source": [
    "# To DataFrame\n",
    "track_features_df = pd.DataFrame(track_features)\n",
    "# Rename id to track_id\n",
    "track_features_df.rename(columns={'id': 'track_id'}, inplace=True)\n",
    "\n",
    "# Assert no duplicates\n",
    "assert track_features_df['track_id'].nunique() == len(track_features_df), \"Duplicate track IDs found in the final DataFrame\"\n",
    "\n",
    "# Assert same length as track_genres_df\n",
    "assert len(track_features_df) == len(track_genres_df), \"Length of track_features_df and track_genres_df do not match\""
   ]
  },
  {
   "cell_type": "code",
   "execution_count": 20,
   "metadata": {},
   "outputs": [
    {
     "name": "stdout",
     "output_type": "stream",
     "text": [
      "9000\n"
     ]
    }
   ],
   "source": [
    "# Merge the two DataFrames\n",
    "all_data = pd.merge(track_genres_df, track_features_df, on='track_id')\n",
    "\n",
    "print(len(all_data))"
   ]
  },
  {
   "cell_type": "code",
   "execution_count": 20,
   "metadata": {},
   "outputs": [
    {
     "name": "stdout",
     "output_type": "stream",
     "text": [
      "Data not saved.\n"
     ]
    }
   ],
   "source": [
    "# Check if \"spotify_data.csv\" already exists\n",
    "if os.path.exists(\"spotify_data.csv\"):\n",
    "    # Option to rename\n",
    "    input_text = input(\"File already exists. Do you want to overwrite it? (y/n): \")\n",
    "    if input_text.lower() == \"y\":\n",
    "        # Save the data\n",
    "        all_data.to_csv(\"spotify_data.csv\", index=False)\n",
    "    else:\n",
    "        input_text = input(\"Do you want to save the data to a new file? (y/n): \")\n",
    "        if input_text.lower() == \"y\":\n",
    "            file_name = input(\"Enter the new file name (.csv extension will be added): \")\n",
    "            all_data.to_csv(file_name + \".csv\", index=False)\n",
    "        else:\n",
    "            print(\"Data not saved.\")\n",
    "else:\n",
    "    # Save the data\n",
    "    all_data.to_csv(\"spotify_data.csv\", index=False)"
   ]
  },
  {
   "cell_type": "markdown",
   "metadata": {},
   "source": [
    "## EDA"
   ]
  },
  {
   "cell_type": "code",
   "execution_count": 40,
   "metadata": {},
   "outputs": [
    {
     "name": "stdout",
     "output_type": "stream",
     "text": [
      "<class 'pandas.core.frame.DataFrame'>\n",
      "RangeIndex: 5829 entries, 0 to 5828\n",
      "Data columns (total 19 columns):\n",
      " #   Column            Non-Null Count  Dtype  \n",
      "---  ------            --------------  -----  \n",
      " 0   track_id          5829 non-null   object \n",
      " 1   genre             5829 non-null   object \n",
      " 2   danceability      5829 non-null   float64\n",
      " 3   energy            5829 non-null   float64\n",
      " 4   key               5829 non-null   int64  \n",
      " 5   loudness          5829 non-null   float64\n",
      " 6   mode              5829 non-null   int64  \n",
      " 7   speechiness       5829 non-null   float64\n",
      " 8   acousticness      5829 non-null   float64\n",
      " 9   instrumentalness  5829 non-null   float64\n",
      " 10  liveness          5829 non-null   float64\n",
      " 11  valence           5829 non-null   float64\n",
      " 12  tempo             5829 non-null   float64\n",
      " 13  type              5829 non-null   object \n",
      " 14  uri               5829 non-null   object \n",
      " 15  track_href        5829 non-null   object \n",
      " 16  analysis_url      5829 non-null   object \n",
      " 17  duration_ms       5829 non-null   int64  \n",
      " 18  time_signature    5829 non-null   int64  \n",
      "dtypes: float64(9), int64(4), object(6)\n",
      "memory usage: 865.4+ KB\n"
     ]
    }
   ],
   "source": [
    "data = pd.read_csv('spotify_data.csv')\n",
    "data.info()"
   ]
  },
  {
   "cell_type": "code",
   "execution_count": 6,
   "metadata": {},
   "outputs": [
    {
     "name": "stdout",
     "output_type": "stream",
     "text": [
      "0\n",
      "0\n"
     ]
    }
   ],
   "source": [
    "print(data.duplicated().sum())\n",
    "print(data['track_id'].duplicated().sum())"
   ]
  },
  {
   "cell_type": "code",
   "execution_count": 41,
   "metadata": {},
   "outputs": [
    {
     "data": {
      "text/plain": [
       "genre\n",
       "other        1500\n",
       "rock          900\n",
       "hip hop       900\n",
       "jazz          898\n",
       "classical     856\n",
       "pop           775\n",
       "Name: count, dtype: int64"
      ]
     },
     "execution_count": 41,
     "metadata": {},
     "output_type": "execute_result"
    }
   ],
   "source": [
    "data['genre'].value_counts()"
   ]
  },
  {
   "cell_type": "markdown",
   "metadata": {},
   "source": [
    "## Search Function\n",
    "\n",
    "Created by Isaiah Montoya"
   ]
  },
  {
   "cell_type": "code",
   "execution_count": 39,
   "metadata": {},
   "outputs": [
    {
     "name": "stdout",
     "output_type": "stream",
     "text": [
      "Found track: Spybreak! - Short One by Propellerheads\n",
      "Audio Features:\n",
      "{'danceability': 0.552, 'energy': 0.929, 'key': 1, 'loudness': -8.626, 'mode': 1, 'speechiness': 0.0458, 'acousticness': 7.14e-06, 'instrumentalness': 0.846, 'liveness': 0.18, 'valence': 0.466, 'tempo': 127.834, 'type': 'audio_features', 'id': '6AyXbkn4cwrErFIMbRBRDs', 'uri': 'spotify:track:6AyXbkn4cwrErFIMbRBRDs', 'track_href': 'https://api.spotify.com/v1/tracks/6AyXbkn4cwrErFIMbRBRDs', 'analysis_url': 'https://api.spotify.com/v1/audio-analysis/6AyXbkn4cwrErFIMbRBRDs', 'duration_ms': 244400, 'time_signature': 4}\n"
     ]
    }
   ],
   "source": [
    "def get_track_features(song_title, artist_name):\n",
    "    # Search for the song using Spotipy's search function\n",
    "    result = sp.search(q=f\"track:{song_title} artist:{artist_name}\", type='track', limit=1)\n",
    "    \n",
    "    if result['tracks']['items']:\n",
    "        # Extract the track ID from the search result\n",
    "        track = result['tracks']['items'][0]\n",
    "        track_id = track['id']\n",
    "        track_name = track['name']\n",
    "        artist_name = track['artists'][0]['name']\n",
    "        \n",
    "        print(f\"Found track: {track_name} by {artist_name}\")\n",
    "        \n",
    "        # Use the track ID to get the song's features\n",
    "        features = sp.audio_features(track_id)\n",
    "        return features[0]  # Return the features dictionary\n",
    "    else:\n",
    "        print(f\"No results found for {song_title} by {artist_name}\")\n",
    "        return None\n",
    "\n",
    "# Example usage\n",
    "song_title = \"Spybreak-Short One\"\n",
    "artist_name = \"Propellerheads\"\n",
    "features = get_track_features(song_title, artist_name)\n",
    "\n",
    "if features:\n",
    "    print(\"Audio Features:\")\n",
    "    print(features)"
   ]
  }
 ],
 "metadata": {
  "kernelspec": {
   "display_name": "base",
   "language": "python",
   "name": "python3"
  },
  "language_info": {
   "codemirror_mode": {
    "name": "ipython",
    "version": 3
   },
   "file_extension": ".py",
   "mimetype": "text/x-python",
   "name": "python",
   "nbconvert_exporter": "python",
   "pygments_lexer": "ipython3",
   "version": "3.11.6"
  }
 },
 "nbformat": 4,
 "nbformat_minor": 2
}
